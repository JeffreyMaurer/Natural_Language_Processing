{
 "cells": [
  {
   "cell_type": "code",
   "execution_count": 3,
   "metadata": {},
   "outputs": [],
   "source": [
    "import os\n",
    "import sys\n",
    "import json\n",
    "import pandas as pd\n",
    "import matplotlib.pyplot as plt\n",
    "import seaborn as sns\n",
    "import re\n",
    "from collections import OrderedDict\n",
    "import itertools as it\n",
    "from functools import reduce \n",
    "import time"
   ]
  },
  {
   "cell_type": "markdown",
   "metadata": {},
   "source": [
    "# Helper Functions"
   ]
  },
  {
   "cell_type": "code",
   "execution_count": 3,
   "metadata": {},
   "outputs": [],
   "source": [
    "def k_fold_cross_validation(data, k):\n",
    "    \"\"\"\n",
    "    params:\n",
    "        data: This should be a pandas data frame\n",
    "        k: This is an int indicating the folds of the data to be performed\n",
    "           If k is 0, perform LOO cross-validation: TODO\n",
    "           If k is 1, the data is both test and train\n",
    "    output:\n",
    "        train: This is a pandas data frame\n",
    "        test: This is a pandas data frame\n",
    "        cross: This is which kth fold that we have just yielded\n",
    "    \"\"\"\n",
    "    if k == 1:\n",
    "        yield(data, data, k)\n",
    "        return()\n",
    "    if k == 0: # TODO: double check\n",
    "        for i, value in enumerate(data):\n",
    "            train = data[:i].append(data[(i+1):])\n",
    "            test = data[i:(i+1)]\n",
    "            yield(train, test, i)\n",
    "    size = len(data)\n",
    "    for cross in range(k):\n",
    "        start = int(cross*size/k)\n",
    "        stop = int((cross+1)*size/k)\n",
    "        train = data[:start].append(data[stop:])\n",
    "        test = data[start:stop]\n",
    "        yield(train,test,cross)"
   ]
  },
  {
   "cell_type": "code",
   "execution_count": 4,
   "metadata": {},
   "outputs": [],
   "source": [
    "def run_algorithm(train, test, algorithm):\n",
    "    \"\"\"\n",
    "    params:\n",
    "        train: a pandas data frame of the data\n",
    "        test: a pandas data frame of the data\n",
    "        algorithm: a pointer to a function that takes in data and outputs predictions\n",
    "        #   params:\n",
    "        #       data: a pandas dataframe\n",
    "        #       info: information from training. If not present, train the model\n",
    "        #   outputs:\n",
    "        #       values: if training, it will output the parameters learned during training\n",
    "        #               if testing, it will output the confusion_matrix\n",
    "    outputs:\n",
    "        confusion_matrix: The confusion matrix of the boolean classification\n",
    "        duration: The amount of time that this took to run\n",
    "        training_info: The necessary information to just run the algorithm without training again\n",
    "    \"\"\"\n",
    "    start = time.time()\n",
    "    training_info = algorithm(train)\n",
    "    confusion_matrix = algorithm(test, training_info)\n",
    "    duration = time.time() - start\n",
    "    return(confusion_matrix, duration, training_info)"
   ]
  },
  {
   "cell_type": "code",
   "execution_count": 5,
   "metadata": {},
   "outputs": [],
   "source": [
    "def accuracy(confusion_matrix):\n",
    "    \"\"\"\n",
    "    params:\n",
    "        confusion_matrix: a dictionary where entries are of the form {(T/F,T/F):freq}\n",
    "                          freq is the occurence of that prediction outcome\n",
    "    ouputs:\n",
    "        The output is a float between 0 and 1 indicating the overall accuracy of the \\\n",
    "        model given the binary confusion matrix.\n",
    "    \"\"\"\n",
    "    correct = confusion_matrix[(True, True)]+confusion_matrix[(False, False)]\n",
    "    return(correct/sum(list(confusion_matrix.values())))"
   ]
  },
  {
   "cell_type": "code",
   "execution_count": 6,
   "metadata": {},
   "outputs": [],
   "source": [
    "def add_term(dicto, word, sarcasm):\n",
    "        if not word in dicto:\n",
    "            dicto[word] = [0,0]\n",
    "            dicto[word][sarcasm] = 1  #if this is the first time we see the word, make its count the step\n",
    "        else:\n",
    "            dicto[word][sarcasm] += 1 #increment the count with another sighting"
   ]
  },
  {
   "cell_type": "markdown",
   "metadata": {},
   "source": [
    "# Model Functions"
   ]
  },
  {
   "cell_type": "code",
   "execution_count": 7,
   "metadata": {},
   "outputs": [],
   "source": [
    "def prior(data,info=None):\n",
    "    values = None\n",
    "    if info is None:\n",
    "        prior=sum(data['is_sarcastic'])/len(data)\n",
    "        values = prior\n",
    "    else:\n",
    "        answer = 0\n",
    "        # If 1 is more common than 0, guess 1.\n",
    "        if info > 0.5:\n",
    "            answer = 1\n",
    "        confusion_matrix = {x:0 for x in it.product([0,1],repeat=2)}\n",
    "        for x in data['is_sarcastic']:\n",
    "            confusion_matrix[(answer,x)] += 1\n",
    "        values = confusion_matrix\n",
    "    return(values)"
   ]
  },
  {
   "cell_type": "code",
   "execution_count": 8,
   "metadata": {},
   "outputs": [],
   "source": [
    "def NB(data,info=None):\n",
    "    values = None\n",
    "    counts = {}\n",
    "    if info is None:\n",
    "        for entry, sarc in zip(data['headline'],data['is_sarcastic']):\n",
    "            for word in entry.split(\" \"):\n",
    "                add_term(counts, word, sarc)\n",
    "        v=list(it.chain(*list(counts.values())))\n",
    "        num_serious_words=sum(v[0::2])\n",
    "        num_sarcastic_words=sum(v[1::2])\n",
    "        for word in counts:\n",
    "            counts[word][0] /= num_serious_words\n",
    "            counts[word][1] /= num_sarcastic_words\n",
    "        values = counts\n",
    "    else:\n",
    "        confusion_matrix = {x:0 for x in it.product([0,1],repeat=2)}\n",
    "        for entry, sarc in zip(data['headline'],data['is_sarcastic']):\n",
    "            # For every headline, multiply the frequency of each word for each class\n",
    "            # If a word in the test set is not found in the training set, ignore it\n",
    "            r = list(it.chain(*[info.get(word, [1,1]) for word in entry.split(\" \")]))\n",
    "            p_serious = reduce((lambda x, y: x * y), r[0::2]) \n",
    "            p_sarcasm = reduce((lambda x, y: x * y), r[1::2]) \n",
    "            result=(p_serious < p_sarcasm, bool(sarc))\n",
    "            confusion_matrix[result] += 1\n",
    "        values = confusion_matrix\n",
    "    return(values)"
   ]
  },
  {
   "cell_type": "code",
   "execution_count": 9,
   "metadata": {},
   "outputs": [],
   "source": [
    "def NB_rank(data,info=None):\n",
    "    values = None\n",
    "    counts = {}\n",
    "    if info is None:\n",
    "        for entry, sarc in zip(data['headline'],data['is_sarcastic']):\n",
    "            for word in entry.split(\" \"):\n",
    "                add_term(counts, word, sarc)\n",
    "        # Get the ranks of each word in reference to serious\n",
    "        ordered_counts_ser=OrderedDict(sorted(counts.items(), reverse=True, key=lambda x: x[1][0]))\n",
    "        for i,count in enumerate(ordered_counts_ser):\n",
    "            ordered_counts_ser[count][0]=i\n",
    "        # Get the ranks of each word in reference to sarcasm\n",
    "        ordered_counts_sarc=OrderedDict(sorted(ordered_counts_ser.items(), reverse=True, key=lambda x: x[1][1]))\n",
    "        for i,count in enumerate(ordered_counts_sarc):\n",
    "            ordered_counts_sarc[count][1]=i\n",
    "        values = ordered_counts_sarc\n",
    "    else:\n",
    "        confusion_matrix = {x:0 for x in it.product([0,1],repeat=2)}\n",
    "        for entry, sarc in zip(data['headline'],data['is_sarcastic']):\n",
    "            # If a word in the test set is not found in the training set, ignore it\n",
    "            r=list(it.chain(*[info.get(word,[0,0]) for word in entry.split(\" \")]))\n",
    "            # For every headline, add up the rankings of each word for each class\n",
    "            psar = sum(r[1::2])\n",
    "            pser = sum(r[0::2])\n",
    "            result=(pser > psar,bool(sarc))\n",
    "            confusion_matrix[result] += 1\n",
    "        values = confusion_matrix\n",
    "    return(values)"
   ]
  },
  {
   "cell_type": "markdown",
   "metadata": {},
   "source": [
    "# Let's Test the Classifiers!\n",
    "\n",
    "### Let's Get the Data First"
   ]
  },
  {
   "cell_type": "markdown",
   "metadata": {},
   "source": [
    "The next couple parts are borrowed from work by Tanumoy Nandy at https://www.kaggle.com/tanumoynandy/sarcasm-detection-lstm."
   ]
  },
  {
   "cell_type": "code",
   "execution_count": 4,
   "metadata": {},
   "outputs": [
    {
     "data": {
      "text/html": [
       "<div>\n",
       "<style scoped>\n",
       "    .dataframe tbody tr th:only-of-type {\n",
       "        vertical-align: middle;\n",
       "    }\n",
       "\n",
       "    .dataframe tbody tr th {\n",
       "        vertical-align: top;\n",
       "    }\n",
       "\n",
       "    .dataframe thead th {\n",
       "        text-align: right;\n",
       "    }\n",
       "</style>\n",
       "<table border=\"1\" class=\"dataframe\">\n",
       "  <thead>\n",
       "    <tr style=\"text-align: right;\">\n",
       "      <th></th>\n",
       "      <th>headline</th>\n",
       "      <th>is_sarcastic</th>\n",
       "    </tr>\n",
       "  </thead>\n",
       "  <tbody>\n",
       "    <tr>\n",
       "      <th>0</th>\n",
       "      <td>former versace store clerk sues over secret 'b...</td>\n",
       "      <td>0</td>\n",
       "    </tr>\n",
       "    <tr>\n",
       "      <th>1</th>\n",
       "      <td>the 'roseanne' revival catches up to our thorn...</td>\n",
       "      <td>0</td>\n",
       "    </tr>\n",
       "    <tr>\n",
       "      <th>2</th>\n",
       "      <td>mom starting to fear son's web series closest ...</td>\n",
       "      <td>1</td>\n",
       "    </tr>\n",
       "    <tr>\n",
       "      <th>3</th>\n",
       "      <td>boehner just wants wife to listen, not come up...</td>\n",
       "      <td>1</td>\n",
       "    </tr>\n",
       "    <tr>\n",
       "      <th>4</th>\n",
       "      <td>j.k. rowling wishes snape happy birthday in th...</td>\n",
       "      <td>0</td>\n",
       "    </tr>\n",
       "  </tbody>\n",
       "</table>\n",
       "</div>"
      ],
      "text/plain": [
       "                                            headline  is_sarcastic\n",
       "0  former versace store clerk sues over secret 'b...             0\n",
       "1  the 'roseanne' revival catches up to our thorn...             0\n",
       "2  mom starting to fear son's web series closest ...             1\n",
       "3  boehner just wants wife to listen, not come up...             1\n",
       "4  j.k. rowling wishes snape happy birthday in th...             0"
      ]
     },
     "execution_count": 4,
     "metadata": {},
     "output_type": "execute_result"
    }
   ],
   "source": [
    "data=pd.read_json('../data/Sarcasm_Headlines_Dataset.json', lines=True)\n",
    "data[['headline','is_sarcastic']].head()"
   ]
  },
  {
   "cell_type": "code",
   "execution_count": 9,
   "metadata": {},
   "outputs": [
    {
     "data": {
      "text/plain": [
       "Text(0.5, 1.0, 'Sarcasm vs Non-sarcasm')"
      ]
     },
     "execution_count": 9,
     "metadata": {},
     "output_type": "execute_result"
    },
    {
     "data": {
      "image/png": "[encoded data removed]",
      "text/plain": [
       "<Figure size 432x288 with 1 Axes>"
      ]
     },
     "metadata": {
      "needs_background": "light"
     },
     "output_type": "display_data"
    }
   ],
   "source": [
    "# Get prior proportions\n",
    "sns.countplot(data.is_sarcastic)\n",
    "plt.xlabel('Label')\n",
    "plt.title('Sarcasm vs Non-sarcasm')"
   ]
  },
  {
   "cell_type": "code",
   "execution_count": 12,
   "metadata": {},
   "outputs": [
    {
     "data": {
      "text/html": [
       "<div>\n",
       "<style scoped>\n",
       "    .dataframe tbody tr th:only-of-type {\n",
       "        vertical-align: middle;\n",
       "    }\n",
       "\n",
       "    .dataframe tbody tr th {\n",
       "        vertical-align: top;\n",
       "    }\n",
       "\n",
       "    .dataframe thead th {\n",
       "        text-align: right;\n",
       "    }\n",
       "</style>\n",
       "<table border=\"1\" class=\"dataframe\">\n",
       "  <thead>\n",
       "    <tr style=\"text-align: right;\">\n",
       "      <th></th>\n",
       "      <th>headline</th>\n",
       "      <th>is_sarcastic</th>\n",
       "    </tr>\n",
       "  </thead>\n",
       "  <tbody>\n",
       "    <tr>\n",
       "      <th>0</th>\n",
       "      <td>former versace store clerk sues over secret bl...</td>\n",
       "      <td>0</td>\n",
       "    </tr>\n",
       "    <tr>\n",
       "      <th>1</th>\n",
       "      <td>the roseanne revival catches up to our thorny ...</td>\n",
       "      <td>0</td>\n",
       "    </tr>\n",
       "    <tr>\n",
       "      <th>2</th>\n",
       "      <td>mom starting to fear sons web series closest t...</td>\n",
       "      <td>1</td>\n",
       "    </tr>\n",
       "    <tr>\n",
       "      <th>3</th>\n",
       "      <td>boehner just wants wife to listen not come up ...</td>\n",
       "      <td>1</td>\n",
       "    </tr>\n",
       "    <tr>\n",
       "      <th>4</th>\n",
       "      <td>jk rowling wishes snape happy birthday in the ...</td>\n",
       "      <td>0</td>\n",
       "    </tr>\n",
       "  </tbody>\n",
       "</table>\n",
       "</div>"
      ],
      "text/plain": [
       "                                            headline  is_sarcastic\n",
       "0  former versace store clerk sues over secret bl...             0\n",
       "1  the roseanne revival catches up to our thorny ...             0\n",
       "2  mom starting to fear sons web series closest t...             1\n",
       "3  boehner just wants wife to listen not come up ...             1\n",
       "4  jk rowling wishes snape happy birthday in the ...             0"
      ]
     },
     "execution_count": 12,
     "metadata": {},
     "output_type": "execute_result"
    }
   ],
   "source": [
    "# remove upper case, weird white space and punctuation\n",
    "data['headline'] = data['headline'].apply(lambda x: x.lower())\n",
    "data['headline'] = data['headline'].apply((lambda x: re.sub('[^a-zA-z0-9\\s]','',x)))\n",
    "data[['headline','is_sarcastic']].head()"
   ]
  },
  {
   "cell_type": "markdown",
   "metadata": {},
   "source": [
    "## Human Accuracy"
   ]
  },
  {
   "cell_type": "markdown",
   "metadata": {},
   "source": [
    "Here, I shall try to classify headlines myself. I shall take a group of 30 headlines and assign them sarcastic or not sarcastic. This will act as a baseline for any algorithms we test. If any of the the classification schemes perform better than I do, we will consider it as performing at superhuman levels."
   ]
  },
  {
   "cell_type": "code",
   "execution_count": 16,
   "metadata": {},
   "outputs": [
    {
     "name": "stdout",
     "output_type": "stream",
     "text": [
      "hillary clinton loses lead over bernie sanders in new iowa poll\n",
      "\n",
      "several women accuse progressive media executive don hazen of sexual harassment\n",
      "\n",
      "success and still enjoying your 'happy place'\n",
      "\n",
      "last 12 years a real wake-up call for area man\n",
      "\n",
      "pollsters admit they underestimated voters' adrenal glands\n",
      "\n",
      "lin-manuel miranda freestyles about life's most annoying minor inconveniences on 'ellen'\n",
      "\n",
      "john lewis won't attend civil rights museum opening because trump is going\n",
      "\n",
      "is trouble brewing for the 2015 npt review conference?\n",
      "\n",
      "area man going to go ahead and consider that a date\n",
      "\n",
      "4 senators mauled during congressional tiger show\n",
      "\n",
      "huffpost hill - secret service agents really glad dark sunglasses hide bloodshot eyes\n",
      "\n",
      "kite flyer in the zone\n",
      "\n",
      "bacon just one of sprint's new downloadable ring scents\n",
      "\n",
      "i photograph to remember\n",
      "\n",
      "u.s. bobsled team pays tribute to late gold medalist steven holcomb\n",
      "\n",
      "among santa fe's many virtues? history, art, culture, hospitality and killer vintage clothing\n",
      "\n",
      "power plan foes from mars, backers from venus (earth actually)\n",
      "\n",
      "journalists who refuse to take the same non-answer for an answer\n",
      "\n",
      "nukes and the global schism\n",
      "\n",
      "weird relative at family reunion knows how everyone related to each other\n",
      "\n",
      "negro week at the 1939–1940 new york world's fair\n",
      "\n",
      "trump threatens to veto spending bill over border wall funding, then signs it\n",
      "\n",
      "6 diy stress hacks using what's in your closet\n",
      "\n",
      "the major concern with the phone call with taiwan\n",
      "\n",
      "a weird and wonderful cabaret chronicle: karen mason revisits her roots at 'don't tell mama!'\n",
      "\n",
      "why companies shouldn't hide the financial risks of climate change\n",
      "\n",
      "the louvre gardens are teeming with rats\n",
      "\n",
      "trump is #1 in the polls, and so was the 'macarena'\n",
      "\n",
      "boy george opens up about happiness, being a u.s. politics junkie and more\n",
      "\n",
      "area woman decides not to post facebook status that would have tipped gun control debate\n",
      "\n"
     ]
    }
   ],
   "source": [
    "for v in data['headline'][600:630]:\n",
    "    print(v + '\\n')"
   ]
  },
  {
   "cell_type": "code",
   "execution_count": 12,
   "metadata": {},
   "outputs": [],
   "source": [
    "guess = [0,1,0,1,1,0,0,0,1,1,1,0,1,1,0,0,0,1,0,1,1,0,0,1,0,0,0,1,0,1]"
   ]
  },
  {
   "cell_type": "code",
   "execution_count": 13,
   "metadata": {},
   "outputs": [],
   "source": [
    "ans = data['is_sarcastic'][600:630]"
   ]
  },
  {
   "cell_type": "code",
   "execution_count": 14,
   "metadata": {},
   "outputs": [
    {
     "data": {
      "text/plain": [
       "0.7333333333333333"
      ]
     },
     "execution_count": 14,
     "metadata": {},
     "output_type": "execute_result"
    }
   ],
   "source": [
    "(30-sum(abs(ans-guess)))/30"
   ]
  },
  {
   "cell_type": "markdown",
   "metadata": {},
   "source": [
    "### Let's Now Run the Algorithms"
   ]
  },
  {
   "cell_type": "code",
   "execution_count": 13,
   "metadata": {},
   "outputs": [
    {
     "name": "stdout",
     "output_type": "stream",
     "text": [
      "0.5610465998370626\n"
     ]
    }
   ],
   "source": [
    "# prior\n",
    "acc = 0\n",
    "k=10\n",
    "for train, test, cross in k_fold_cross_validation(data, k): \n",
    "    confusion_matrix, duration = run_algorithm(train, test, prior)\n",
    "    acc += accuracy(confusion_matrix)\n",
    "print(acc/k)"
   ]
  },
  {
   "cell_type": "code",
   "execution_count": 14,
   "metadata": {},
   "outputs": [
    {
     "name": "stdout",
     "output_type": "stream",
     "text": [
      "0.7730727175082064\n"
     ]
    }
   ],
   "source": [
    "# NB\n",
    "acc = 0\n",
    "k=10\n",
    "for train, test, cross in k_fold_cross_validation(data, k): \n",
    "    confusion_matrix, duration = run_algorithm(train, test, NB)\n",
    "    acc += accuracy(confusion_matrix)\n",
    "print(acc/k)"
   ]
  },
  {
   "cell_type": "code",
   "execution_count": 15,
   "metadata": {},
   "outputs": [
    {
     "name": "stdout",
     "output_type": "stream",
     "text": [
      "0.7483996107897406\n"
     ]
    }
   ],
   "source": [
    "# NB_rank\n",
    "acc = 0\n",
    "k=5\n",
    "for train, test, cross in k_fold_cross_validation(data, k): \n",
    "    confusion_matrix, duration = run_algorithm(train, test, NB_rank)\n",
    "    acc += accuracy(confusion_matrix)\n",
    "print(acc/k)"
   ]
  },
  {
   "cell_type": "markdown",
   "metadata": {},
   "source": [
    "It seems that worst case scenario, we will get 0.56 accuracy through guessing one value all the time. However, if we use NB, we can achieve an accuracy of around 0.77. This is a C+.\n",
    "\n",
    "If we want to generate headlines, we will want a classifier that does even better. I will arbitrarily set the threshold to 95%. Why? Because when we give NB the opportunity to memorize, it can achieve 96% accuracy.\n",
    "\n",
    "Notice that we are only removing non-alphanumerics and uppercase, but we are not removing things like conjugation for tense or number. We are also not removing stop words."
   ]
  },
  {
   "cell_type": "markdown",
   "metadata": {},
   "source": [
    "# NLTK"
   ]
  },
  {
   "cell_type": "code",
   "execution_count": 48,
   "metadata": {},
   "outputs": [
    {
     "name": "stderr",
     "output_type": "stream",
     "text": [
      "[nltk_data] Downloading package stopwords to\n",
      "[nltk_data]     C:\\Users\\jeffr\\AppData\\Roaming\\nltk_data...\n",
      "[nltk_data]   Package stopwords is already up-to-date!\n",
      "[nltk_data] Downloading package punkt to\n",
      "[nltk_data]     C:\\Users\\jeffr\\AppData\\Roaming\\nltk_data...\n",
      "[nltk_data]   Package punkt is already up-to-date!\n"
     ]
    },
    {
     "data": {
      "text/plain": [
       "True"
      ]
     },
     "execution_count": 48,
     "metadata": {},
     "output_type": "execute_result"
    }
   ],
   "source": [
    "import nltk\n",
    "nltk.download('stopwords')\n",
    "nltk.download('punkt')"
   ]
  },
  {
   "cell_type": "code",
   "execution_count": 49,
   "metadata": {},
   "outputs": [],
   "source": [
    "from nltk.corpus import stopwords\n",
    "stop=list(stopwords.words('english'))[:]"
   ]
  },
  {
   "cell_type": "code",
   "execution_count": 50,
   "metadata": {},
   "outputs": [
    {
     "data": {
      "text/plain": [
       "['first',\n",
       " 'shalt',\n",
       " 'thou',\n",
       " 'take',\n",
       " 'holy',\n",
       " 'pin',\n",
       " '.',\n",
       " ',',\n",
       " 'shalt',\n",
       " 'thou',\n",
       " 'count',\n",
       " 'three',\n",
       " ',',\n",
       " ',',\n",
       " 'less',\n",
       " '.']"
      ]
     },
     "execution_count": 50,
     "metadata": {},
     "output_type": "execute_result"
    }
   ],
   "source": [
    "sentence=\"First shalt thou take out the Holy Pin. Then, shalt thou count to three, no more, no less.\".lower()\n",
    "[w for w in word_tokenize(sentence) if not w in stop]"
   ]
  },
  {
   "cell_type": "markdown",
   "metadata": {},
   "source": [
    "### Classifiers with nltk"
   ]
  },
  {
   "cell_type": "markdown",
   "metadata": {},
   "source": [
    "Let's see what happens when we modify the pipeline so that we exclude the stopwords that the nltk library provides for us."
   ]
  },
  {
   "cell_type": "code",
   "execution_count": 55,
   "metadata": {},
   "outputs": [],
   "source": [
    "def NB_nltk(data,info=None):\n",
    "    values = None\n",
    "    counts = {}\n",
    "    if info is None:\n",
    "        for entry, sarc in zip(data['headline'],data['is_sarcastic']):\n",
    "            for word in entry.split(\" \"):\n",
    "                if not word in stop:\n",
    "                    add_term(counts, word, sarc)\n",
    "        v=list(it.chain(*list(counts.values())))\n",
    "        num_serious_words=sum(v[0::2])\n",
    "        num_sarcastic_words=sum(v[1::2])\n",
    "        for word in counts:\n",
    "            counts[word][0] /= num_serious_words\n",
    "            counts[word][1] /= num_sarcastic_words\n",
    "        values = counts\n",
    "    else:\n",
    "        confusion_matrix = {x:0 for x in it.product([0,1],repeat=2)}\n",
    "        for entry, sarc in zip(data['headline'],data['is_sarcastic']):\n",
    "            # For every headline, multiply the frequency of each word for each class\n",
    "            # If a word in the test set is not found in the training set, ignore it\n",
    "            r = list(it.chain(*[info.get(word, [1,1]) for word in entry.split(\" \")]))\n",
    "            p_serious = reduce((lambda x, y: x * y), r[0::2]) \n",
    "            p_sarcasm = reduce((lambda x, y: x * y), r[1::2]) \n",
    "            result=(p_serious < p_sarcasm, bool(sarc))\n",
    "            confusion_matrix[result] += 1\n",
    "        values = confusion_matrix\n",
    "    return(values)"
   ]
  },
  {
   "cell_type": "code",
   "execution_count": 56,
   "metadata": {},
   "outputs": [],
   "source": [
    "def NB_rank_nltk(data,info=None):\n",
    "    values = None\n",
    "    counts = {}\n",
    "    if info is None:\n",
    "        for entry, sarc in zip(data['headline'],data['is_sarcastic']):\n",
    "            for word in entry.split(\" \"):\n",
    "                if not word in stop:\n",
    "                    add_term(counts, word, sarc)\n",
    "        # Get the ranks of each word in reference to serious\n",
    "        ordered_counts_ser=OrderedDict(sorted(counts.items(), reverse=True, key=lambda x: x[1][0]))\n",
    "        for i,count in enumerate(ordered_counts_ser):\n",
    "            ordered_counts_ser[count][0]=i\n",
    "        # Get the ranks of each word in reference to sarcasm\n",
    "        ordered_counts_sarc=OrderedDict(sorted(ordered_counts_ser.items(), reverse=True, key=lambda x: x[1][1]))\n",
    "        for i,count in enumerate(ordered_counts_sarc):\n",
    "            ordered_counts_sarc[count][1]=i\n",
    "        values = ordered_counts_sarc\n",
    "    else:\n",
    "        confusion_matrix = {x:0 for x in it.product([0,1],repeat=2)}\n",
    "        for entry, sarc in zip(data['headline'],data['is_sarcastic']):\n",
    "            # If a word in the test set is not found in the training set, ignore it\n",
    "            r=list(it.chain(*[info.get(word,[0,0]) for word in entry.split(\" \")]))\n",
    "            # For every headline, add up the rankings of each word for each class\n",
    "            psar = sum(r[1::2])\n",
    "            pser = sum(r[0::2])\n",
    "            result=(pser > psar,bool(sarc))\n",
    "            confusion_matrix[result] += 1\n",
    "        values = confusion_matrix\n",
    "    return(values)"
   ]
  },
  {
   "cell_type": "code",
   "execution_count": 57,
   "metadata": {},
   "outputs": [
    {
     "name": "stdout",
     "output_type": "stream",
     "text": [
      "0.74678959892422\n"
     ]
    }
   ],
   "source": [
    "# NB\n",
    "acc = 0\n",
    "k=10\n",
    "for train, test, cross in k_fold_cross_validation(data, k): # never before seen words\n",
    "    confusion_matrix, duration = run_algorithm(train, test, NB_nltk)\n",
    "    acc += accuracy(confusion_matrix)\n",
    "print(acc/k)"
   ]
  },
  {
   "cell_type": "code",
   "execution_count": 58,
   "metadata": {},
   "outputs": [
    {
     "name": "stdout",
     "output_type": "stream",
     "text": [
      "0.7488487107326999\n"
     ]
    }
   ],
   "source": [
    "# NB_rank\n",
    "acc = 0\n",
    "k=10\n",
    "for train, test, cross in k_fold_cross_validation(data, k): # never before seen words\n",
    "    confusion_matrix, duration = run_algorithm(train, test, NB_rank_nltk)\n",
    "    acc += accuracy(confusion_matrix)\n",
    "print(acc/k)"
   ]
  },
  {
   "cell_type": "markdown",
   "metadata": {},
   "source": [
    "It appears that removing the stopwords reduces accuracy, but not by much. This is an interesting finding. Let's see if we can get better accuracy using a neural network!"
   ]
  },
  {
   "cell_type": "markdown",
   "metadata": {},
   "source": [
    "# Neural Network"
   ]
  },
  {
   "cell_type": "markdown",
   "metadata": {},
   "source": [
    "What we shall try to accomplish here is to run the same NLP analysis using a neural network architecture. We shall use keras.\n",
    "\n",
    "The following example is pulled directly from https://towardsdatascience.com/a-beginners-guide-on-sentiment-analysis-with-rnn-9e100627c02e. This is used as a learning opportunity only and is not part of our project."
   ]
  },
  {
   "cell_type": "code",
   "execution_count": 2,
   "metadata": {},
   "outputs": [
    {
     "name": "stderr",
     "output_type": "stream",
     "text": [
      "Using TensorFlow backend.\n"
     ]
    }
   ],
   "source": [
    "import keras"
   ]
  },
  {
   "cell_type": "code",
   "execution_count": 3,
   "metadata": {},
   "outputs": [],
   "source": [
    "from keras.datasets import imdb"
   ]
  },
  {
   "cell_type": "code",
   "execution_count": 4,
   "metadata": {},
   "outputs": [
    {
     "name": "stdout",
     "output_type": "stream",
     "text": [
      "Downloading data from https://s3.amazonaws.com/text-datasets/imdb.npz\n",
      "17465344/17464789 [==============================] - 3s 0us/step\n",
      "Loaded dataset with 25000 training samples, 25000 test samples\n"
     ]
    }
   ],
   "source": [
    "vocabulary_size = 5000\n",
    "(X_train, y_train), (X_test, y_test) = imdb.load_data(num_words = vocabulary_size)\n",
    "print('Loaded dataset with {} training samples, {} test samples'.format(len(X_train), len(X_test)))"
   ]
  },
  {
   "cell_type": "code",
   "execution_count": 5,
   "metadata": {},
   "outputs": [
    {
     "name": "stdout",
     "output_type": "stream",
     "text": [
      "---review---\n",
      "[1, 2, 365, 1234, 5, 1156, 354, 11, 14, 2, 2, 7, 1016, 2, 2, 356, 44, 4, 1349, 500, 746, 5, 200, 4, 4132, 11, 2, 2, 1117, 1831, 2, 5, 4831, 26, 6, 2, 4183, 17, 369, 37, 215, 1345, 143, 2, 5, 1838, 8, 1974, 15, 36, 119, 257, 85, 52, 486, 9, 6, 2, 2, 63, 271, 6, 196, 96, 949, 4121, 4, 2, 7, 4, 2212, 2436, 819, 63, 47, 77, 2, 180, 6, 227, 11, 94, 2494, 2, 13, 423, 4, 168, 7, 4, 22, 5, 89, 665, 71, 270, 56, 5, 13, 197, 12, 161, 2, 99, 76, 23, 2, 7, 419, 665, 40, 91, 85, 108, 7, 4, 2084, 5, 4773, 81, 55, 52, 1901]\n",
      "---label---\n",
      "1\n"
     ]
    }
   ],
   "source": [
    "print('---review---')\n",
    "print(X_train[6])\n",
    "print('---label---')\n",
    "print(y_train[6])"
   ]
  },
  {
   "cell_type": "code",
   "execution_count": 6,
   "metadata": {},
   "outputs": [
    {
     "name": "stdout",
     "output_type": "stream",
     "text": [
      "Downloading data from https://s3.amazonaws.com/text-datasets/imdb_word_index.json\n",
      "1646592/1641221 [==============================] - 0s 0us/step\n",
      "---review with words---\n",
      "['the', 'and', 'full', 'involving', 'to', 'impressive', 'boring', 'this', 'as', 'and', 'and', 'br', 'villain', 'and', 'and', 'need', 'has', 'of', 'costumes', 'b', 'message', 'to', 'may', 'of', 'props', 'this', 'and', 'and', 'concept', 'issue', 'and', 'to', \"god's\", 'he', 'is', 'and', 'unfolds', 'movie', 'women', 'like', \"isn't\", 'surely', \"i'm\", 'and', 'to', 'toward', 'in', \"here's\", 'for', 'from', 'did', 'having', 'because', 'very', 'quality', 'it', 'is', 'and', 'and', 'really', 'book', 'is', 'both', 'too', 'worked', 'carl', 'of', 'and', 'br', 'of', 'reviewer', 'closer', 'figure', 'really', 'there', 'will', 'and', 'things', 'is', 'far', 'this', 'make', 'mistakes', 'and', 'was', \"couldn't\", 'of', 'few', 'br', 'of', 'you', 'to', \"don't\", 'female', 'than', 'place', 'she', 'to', 'was', 'between', 'that', 'nothing', 'and', 'movies', 'get', 'are', 'and', 'br', 'yes', 'female', 'just', 'its', 'because', 'many', 'br', 'of', 'overly', 'to', 'descent', 'people', 'time', 'very', 'bland']\n",
      "---label---\n",
      "1\n"
     ]
    }
   ],
   "source": [
    "word2id = imdb.get_word_index()\n",
    "id2word = {i: word for word, i in word2id.items()}\n",
    "print('---review with words---')\n",
    "print([id2word.get(i, ' ') for i in X_train[6]])\n",
    "print('---label---')\n",
    "print(y_train[6])"
   ]
  },
  {
   "cell_type": "code",
   "execution_count": 7,
   "metadata": {},
   "outputs": [
    {
     "name": "stdout",
     "output_type": "stream",
     "text": [
      "Maximum review length: 2697\n"
     ]
    }
   ],
   "source": [
    "print('Maximum review length: {}'.format(\n",
    "len(max((X_train + X_test), key=len))))"
   ]
  },
  {
   "cell_type": "code",
   "execution_count": 8,
   "metadata": {},
   "outputs": [
    {
     "name": "stdout",
     "output_type": "stream",
     "text": [
      "Minimum review length: 14\n"
     ]
    }
   ],
   "source": [
    "print('Minimum review length: {}'.format(\n",
    "len(min((X_test + X_test), key=len))))"
   ]
  },
  {
   "cell_type": "code",
   "execution_count": 9,
   "metadata": {},
   "outputs": [],
   "source": [
    "from keras.preprocessing import sequence\n",
    "max_words = 500\n",
    "X_train = sequence.pad_sequences(X_train, maxlen=max_words)\n",
    "X_test = sequence.pad_sequences(X_test, maxlen=max_words)"
   ]
  },
  {
   "cell_type": "code",
   "execution_count": 10,
   "metadata": {},
   "outputs": [
    {
     "name": "stdout",
     "output_type": "stream",
     "text": [
      "WARNING:tensorflow:From C:\\Users\\jeffr\\Anaconda3\\lib\\site-packages\\tensorflow\\python\\framework\\op_def_library.py:263: colocate_with (from tensorflow.python.framework.ops) is deprecated and will be removed in a future version.\n",
      "Instructions for updating:\n",
      "Colocations handled automatically by placer.\n",
      "Model: \"sequential_1\"\n",
      "_________________________________________________________________\n",
      "Layer (type)                 Output Shape              Param #   \n",
      "=================================================================\n",
      "embedding_1 (Embedding)      (None, 500, 32)           160000    \n",
      "_________________________________________________________________\n",
      "lstm_1 (LSTM)                (None, 100)               53200     \n",
      "_________________________________________________________________\n",
      "dense_1 (Dense)              (None, 1)                 101       \n",
      "=================================================================\n",
      "Total params: 213,301\n",
      "Trainable params: 213,301\n",
      "Non-trainable params: 0\n",
      "_________________________________________________________________\n",
      "None\n"
     ]
    }
   ],
   "source": [
    "from keras import Sequential\n",
    "from keras.layers import Embedding, LSTM, Dense, Dropout\n",
    "embedding_size=32\n",
    "model=Sequential()\n",
    "model.add(Embedding(vocabulary_size, embedding_size, input_length=max_words))\n",
    "model.add(LSTM(100))\n",
    "model.add(Dense(1, activation='sigmoid'))\n",
    "print(model.summary())"
   ]
  },
  {
   "cell_type": "code",
   "execution_count": 11,
   "metadata": {},
   "outputs": [],
   "source": [
    "model.compile(loss='binary_crossentropy', \n",
    "             optimizer='adam', \n",
    "             metrics=['accuracy'])"
   ]
  },
  {
   "cell_type": "code",
   "execution_count": 12,
   "metadata": {},
   "outputs": [
    {
     "name": "stdout",
     "output_type": "stream",
     "text": [
      "WARNING:tensorflow:From C:\\Users\\jeffr\\Anaconda3\\lib\\site-packages\\tensorflow\\python\\ops\\math_ops.py:3066: to_int32 (from tensorflow.python.ops.math_ops) is deprecated and will be removed in a future version.\n",
      "Instructions for updating:\n",
      "Use tf.cast instead.\n",
      "Train on 24936 samples, validate on 64 samples\n",
      "Epoch 1/3\n",
      "24936/24936 [==============================] - 293s 12ms/step - loss: 0.4808 - acc: 0.7592 - val_loss: 0.2669 - val_acc: 0.9375\n",
      "Epoch 2/3\n",
      "24936/24936 [==============================] - 284s 11ms/step - loss: 0.3200 - acc: 0.8662 - val_loss: 0.2150 - val_acc: 0.9531\n",
      "Epoch 3/3\n",
      "24936/24936 [==============================] - 285s 11ms/step - loss: 0.2753 - acc: 0.8900 - val_loss: 0.2866 - val_acc: 0.8906\n"
     ]
    },
    {
     "data": {
      "text/plain": [
       "<keras.callbacks.History at 0x1dc09a4ccc0>"
      ]
     },
     "execution_count": 12,
     "metadata": {},
     "output_type": "execute_result"
    }
   ],
   "source": [
    "batch_size = 64\n",
    "num_epochs = 3\n",
    "X_valid, y_valid = X_train[:batch_size], y_train[:batch_size]\n",
    "X_train2, y_train2 = X_train[batch_size:], y_train[batch_size:]\n",
    "model.fit(X_train2, y_train2, validation_data=(X_valid, y_valid), batch_size=batch_size, epochs=num_epochs)"
   ]
  },
  {
   "cell_type": "code",
   "execution_count": 39,
   "metadata": {},
   "outputs": [
    {
     "name": "stdout",
     "output_type": "stream",
     "text": [
      "Test accuracy: 0.86732\n"
     ]
    }
   ],
   "source": [
    "scores = model.evaluate(X_test, y_test, verbose=0)\n",
    "print('Test accuracy:', scores[1])"
   ]
  }
 ],
 "metadata": {
  "kernelspec": {
   "display_name": "Python 3",
   "language": "python",
   "name": "python3"
  },
  "language_info": {
   "codemirror_mode": {
    "name": "ipython",
    "version": 3
   },
   "file_extension": ".py",
   "mimetype": "text/x-python",
   "name": "python",
   "nbconvert_exporter": "python",
   "pygments_lexer": "ipython3",
   "version": "3.7.3"
  }
 },
 "nbformat": 4,
 "nbformat_minor": 2
}
