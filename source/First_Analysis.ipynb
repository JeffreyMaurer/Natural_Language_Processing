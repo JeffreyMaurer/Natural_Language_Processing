{
 "cells": [
  {
   "cell_type": "code",
   "execution_count": 31,
   "metadata": {},
   "outputs": [],
   "source": [
    "import os\n",
    "import sys\n",
    "import json\n",
    "import pandas as pd\n",
    "import matplotlib.pyplot as plt\n",
    "import seaborn as sns\n",
    "import re\n",
    "from collections import OrderedDict\n",
    "import itertools as it\n",
    "from functools import reduce \n",
    "import time"
   ]
  },
  {
   "cell_type": "code",
   "execution_count": 2,
   "metadata": {},
   "outputs": [],
   "source": [
    "data=pd.read_json('../data/Sarcasm_Headlines_Dataset.json', lines=True)"
   ]
  },
  {
   "cell_type": "code",
   "execution_count": 3,
   "metadata": {},
   "outputs": [
    {
     "data": {
      "text/html": [
       "<div>\n",
       "<style scoped>\n",
       "    .dataframe tbody tr th:only-of-type {\n",
       "        vertical-align: middle;\n",
       "    }\n",
       "\n",
       "    .dataframe tbody tr th {\n",
       "        vertical-align: top;\n",
       "    }\n",
       "\n",
       "    .dataframe thead th {\n",
       "        text-align: right;\n",
       "    }\n",
       "</style>\n",
       "<table border=\"1\" class=\"dataframe\">\n",
       "  <thead>\n",
       "    <tr style=\"text-align: right;\">\n",
       "      <th></th>\n",
       "      <th>headline</th>\n",
       "      <th>is_sarcastic</th>\n",
       "    </tr>\n",
       "  </thead>\n",
       "  <tbody>\n",
       "    <tr>\n",
       "      <th>0</th>\n",
       "      <td>former versace store clerk sues over secret 'b...</td>\n",
       "      <td>0</td>\n",
       "    </tr>\n",
       "    <tr>\n",
       "      <th>1</th>\n",
       "      <td>the 'roseanne' revival catches up to our thorn...</td>\n",
       "      <td>0</td>\n",
       "    </tr>\n",
       "    <tr>\n",
       "      <th>2</th>\n",
       "      <td>mom starting to fear son's web series closest ...</td>\n",
       "      <td>1</td>\n",
       "    </tr>\n",
       "    <tr>\n",
       "      <th>3</th>\n",
       "      <td>boehner just wants wife to listen, not come up...</td>\n",
       "      <td>1</td>\n",
       "    </tr>\n",
       "    <tr>\n",
       "      <th>4</th>\n",
       "      <td>j.k. rowling wishes snape happy birthday in th...</td>\n",
       "      <td>0</td>\n",
       "    </tr>\n",
       "  </tbody>\n",
       "</table>\n",
       "</div>"
      ],
      "text/plain": [
       "                                            headline  is_sarcastic\n",
       "0  former versace store clerk sues over secret 'b...             0\n",
       "1  the 'roseanne' revival catches up to our thorn...             0\n",
       "2  mom starting to fear son's web series closest ...             1\n",
       "3  boehner just wants wife to listen, not come up...             1\n",
       "4  j.k. rowling wishes snape happy birthday in th...             0"
      ]
     },
     "execution_count": 3,
     "metadata": {},
     "output_type": "execute_result"
    }
   ],
   "source": [
    "data.head()\n",
    "data[['headline','is_sarcastic']].head()"
   ]
  },
  {
   "cell_type": "markdown",
   "metadata": {},
   "source": [
    "Well, now that we have our data, let's analyze it. I shall start with a bag of words.\n",
    "I shall remove all stop words and try to remove suffixes, such as plurals and tense.\n",
    "The next couple parts are borrowed from work by Tanumoy Nandy at\n",
    "https://www.kaggle.com/tanumoynandy/sarcasm-detection-lstm"
   ]
  },
  {
   "cell_type": "code",
   "execution_count": 5,
   "metadata": {},
   "outputs": [
    {
     "data": {
      "text/plain": [
       "Text(0.5, 1.0, 'Sarcasm vs Non-sarcasm')"
      ]
     },
     "execution_count": 5,
     "metadata": {},
     "output_type": "execute_result"
    },
    {
     "data": {
      "image/png": "[encoded data removed]",
      "text/plain": [
       "<Figure size 432x288 with 1 Axes>"
      ]
     },
     "metadata": {
      "needs_background": "light"
     },
     "output_type": "display_data"
    }
   ],
   "source": [
    "# Get prior proportions\n",
    "sns.countplot(data.is_sarcastic)\n",
    "plt.xlabel('Label')\n",
    "plt.title('Sarcasm vs Non-sarcasm')"
   ]
  },
  {
   "cell_type": "code",
   "execution_count": 6,
   "metadata": {},
   "outputs": [
    {
     "data": {
      "text/plain": [
       "0.5610468381444457"
      ]
     },
     "execution_count": 6,
     "metadata": {},
     "output_type": "execute_result"
    }
   ],
   "source": [
    "# Simplest method to determine sarcasm, prior rates\n",
    "prior=(len(data)-sum(data['is_sarcastic']))/len(data)\n",
    "prior"
   ]
  },
  {
   "cell_type": "code",
   "execution_count": 7,
   "metadata": {
    "scrolled": true
   },
   "outputs": [
    {
     "data": {
      "text/html": [
       "<div>\n",
       "<style scoped>\n",
       "    .dataframe tbody tr th:only-of-type {\n",
       "        vertical-align: middle;\n",
       "    }\n",
       "\n",
       "    .dataframe tbody tr th {\n",
       "        vertical-align: top;\n",
       "    }\n",
       "\n",
       "    .dataframe thead th {\n",
       "        text-align: right;\n",
       "    }\n",
       "</style>\n",
       "<table border=\"1\" class=\"dataframe\">\n",
       "  <thead>\n",
       "    <tr style=\"text-align: right;\">\n",
       "      <th></th>\n",
       "      <th>headline</th>\n",
       "      <th>is_sarcastic</th>\n",
       "    </tr>\n",
       "  </thead>\n",
       "  <tbody>\n",
       "    <tr>\n",
       "      <th>0</th>\n",
       "      <td>former versace store clerk sues over secret bl...</td>\n",
       "      <td>0</td>\n",
       "    </tr>\n",
       "    <tr>\n",
       "      <th>1</th>\n",
       "      <td>the roseanne revival catches up to our thorny ...</td>\n",
       "      <td>0</td>\n",
       "    </tr>\n",
       "    <tr>\n",
       "      <th>2</th>\n",
       "      <td>mom starting to fear sons web series closest t...</td>\n",
       "      <td>1</td>\n",
       "    </tr>\n",
       "    <tr>\n",
       "      <th>3</th>\n",
       "      <td>boehner just wants wife to listen not come up ...</td>\n",
       "      <td>1</td>\n",
       "    </tr>\n",
       "    <tr>\n",
       "      <th>4</th>\n",
       "      <td>jk rowling wishes snape happy birthday in the ...</td>\n",
       "      <td>0</td>\n",
       "    </tr>\n",
       "  </tbody>\n",
       "</table>\n",
       "</div>"
      ],
      "text/plain": [
       "                                            headline  is_sarcastic\n",
       "0  former versace store clerk sues over secret bl...             0\n",
       "1  the roseanne revival catches up to our thorny ...             0\n",
       "2  mom starting to fear sons web series closest t...             1\n",
       "3  boehner just wants wife to listen not come up ...             1\n",
       "4  jk rowling wishes snape happy birthday in the ...             0"
      ]
     },
     "execution_count": 7,
     "metadata": {},
     "output_type": "execute_result"
    }
   ],
   "source": [
    "# remove upper case, weird white space and punctuation\n",
    "data['headline'] = data['headline'].apply(lambda x: x.lower())\n",
    "data['headline'] = data['headline'].apply((lambda x: re.sub('[^a-zA-z0-9\\s]','',x)))\n",
    "data[['headline','is_sarcastic']].head()"
   ]
  },
  {
   "cell_type": "code",
   "execution_count": 120,
   "metadata": {},
   "outputs": [],
   "source": [
    "# I'm gonna be dumb and use a good 'Ol python dictionary to hold the word counts\n",
    "# word: [serious_int, sarcastic_int]\n",
    "counts={}\n",
    "def add_term(dicto, word, sarcasm):\n",
    "    if not word in dicto:\n",
    "        dicto[word] = [0,0]\n",
    "        dicto[word][sarcasm] = 1  #if this is the first time we see the word, make its count the step\n",
    "    else:\n",
    "        dicto[word][sarcasm] += 1 #increment the count with another sighting\n",
    "        \n",
    "for entry, sarc in zip(data['headline'],data['is_sarcastic']):\n",
    "    for word in entry.split(\" \"):\n",
    "        add_term(counts, word, sarc)"
   ]
  },
  {
   "cell_type": "code",
   "execution_count": 121,
   "metadata": {},
   "outputs": [],
   "source": [
    "# Get the ranks of each word\n",
    "the_counts=OrderedDict(sorted(counts.items(), reverse=True, key=lambda x: x[1][1]))"
   ]
  },
  {
   "cell_type": "code",
   "execution_count": 122,
   "metadata": {},
   "outputs": [],
   "source": [
    "for i,count in enumerate(the_counts):\n",
    "    the_counts[count][1]=i"
   ]
  },
  {
   "cell_type": "code",
   "execution_count": 123,
   "metadata": {},
   "outputs": [],
   "source": [
    "the_counts=OrderedDict(sorted(counts.items(), reverse=True, key=lambda x: x[1][0]))"
   ]
  },
  {
   "cell_type": "code",
   "execution_count": 124,
   "metadata": {},
   "outputs": [],
   "source": [
    "for i,count in enumerate(the_counts):\n",
    "    the_counts[count][0]=i"
   ]
  },
  {
   "cell_type": "code",
   "execution_count": 125,
   "metadata": {},
   "outputs": [],
   "source": [
    "# At this point, counts now has a list of rankings for each word for sarcasm vs not sarcasm\n",
    "# Let's see if we can use these rankings to determine the sarcasm of the headline\n",
    "confusion_matrix={}\n",
    "def add_term(dicto, case):\n",
    "    if not case in dicto:\n",
    "        dicto[case] = 1  #if this is the first time we see the word, make its count the step\n",
    "    else:\n",
    "        dicto[case] += 1 #increment the count with another sighting\n",
    "        \n",
    "for entry, sarc in zip(data['headline'],data['is_sarcastic']):\n",
    "    # For every headline, add up the rankings of each word for each class\n",
    "    r=list(itertools.chain(*[the_counts[word] for word in entry.split(\" \")]))\n",
    "\n",
    "    # Get the predicted and real sarcasm\n",
    "    result=(sum(r[::2]) > sum(r[1::2]),bool(sarc))\n",
    "    add_term(confusion_matrix, result)"
   ]
  },
  {
   "cell_type": "code",
   "execution_count": 126,
   "metadata": {},
   "outputs": [
    {
     "data": {
      "text/plain": [
       "{(False, False): 13860,\n",
       " (True, True): 11049,\n",
       " (True, False): 1125,\n",
       " (False, True): 675}"
      ]
     },
     "execution_count": 126,
     "metadata": {},
     "output_type": "execute_result"
    }
   ],
   "source": [
    "confusion_matrix"
   ]
  },
  {
   "cell_type": "code",
   "execution_count": 127,
   "metadata": {},
   "outputs": [
    {
     "data": {
      "text/plain": [
       "0.9326069864090756"
      ]
     },
     "execution_count": 127,
     "metadata": {},
     "output_type": "execute_result"
    }
   ],
   "source": [
    "accuracy=(confusion_matrix[(True, True)]+confusion_matrix[(False, False)])/len(data)\n",
    "accuracy"
   ]
  },
  {
   "cell_type": "code",
   "execution_count": 66,
   "metadata": {},
   "outputs": [],
   "source": [
    "# Let's do the same thing... but Naive Bayes!\n",
    "counts={}\n",
    "def add_term(dicto, word, sarcasm):\n",
    "    if not word in dicto:\n",
    "        dicto[word] = [0,0]\n",
    "        dicto[word][sarcasm] = 1  #if this is the first time we see the word, make its count the step\n",
    "    else:\n",
    "        dicto[word][sarcasm] += 1 #increment the count with another sighting\n",
    "\n",
    "for entry, sarc in zip(data['headline'],data['is_sarcastic']):\n",
    "    for word in entry.split(\" \"):\n",
    "        add_term(counts, word, sarc)\n",
    "v=list(itertools.chain(*list(counts.values())))\n",
    "num_serious_words=sum(v[0::2])\n",
    "num_sarcastic_words=sum(v[1::2])\n"
   ]
  },
  {
   "cell_type": "code",
   "execution_count": 67,
   "metadata": {},
   "outputs": [],
   "source": [
    "for i,count in enumerate(counts):\n",
    "    counts[count][0]=counts[count][0]/num_serious_words\n",
    "    counts[count][1]=counts[count][1]/num_sarcastic_words"
   ]
  },
  {
   "cell_type": "code",
   "execution_count": 68,
   "metadata": {},
   "outputs": [],
   "source": [
    "confusion_matrix={}\n",
    "def add_term(dicto, case):\n",
    "    if not case in dicto:\n",
    "        dicto[case] = 1  #if this is the first time we see the word, make its count the step\n",
    "    else:\n",
    "        dicto[case] += 1 #increment the count with another sighting\n",
    "        \n",
    "for entry, sarc in zip(data['headline'],data['is_sarcastic']):\n",
    "    # For every headline, add up the rankings of each word for each class\n",
    "    r = list(itertools.chain(*[counts[word] for word in entry.split(\" \")]))\n",
    "    p_serious = reduce((lambda x, y: x * y), r[0::2]) \n",
    "    p_sarcasm = reduce((lambda x, y: x * y), r[1::2]) \n",
    "    # Get the predicted and real sarcasm\n",
    "    result=(p_serious < p_sarcasm, bool(sarc))\n",
    "    add_term(confusion_matrix, result)"
   ]
  },
  {
   "cell_type": "code",
   "execution_count": 69,
   "metadata": {},
   "outputs": [
    {
     "data": {
      "text/plain": [
       "0.9630461642143098"
      ]
     },
     "execution_count": 69,
     "metadata": {},
     "output_type": "execute_result"
    }
   ],
   "source": [
    "accuracy=(confusion_matrix[(True, True)]+confusion_matrix[(False, False)])/len(data)\n",
    "accuracy"
   ]
  },
  {
   "cell_type": "code",
   "execution_count": 73,
   "metadata": {},
   "outputs": [
    {
     "data": {
      "text/plain": [
       "0.9630461642143098"
      ]
     },
     "execution_count": 73,
     "metadata": {},
     "output_type": "execute_result"
    }
   ],
   "source": [
    "accuracy(confusion_matrix)"
   ]
  },
  {
   "cell_type": "code",
   "execution_count": 164,
   "metadata": {},
   "outputs": [],
   "source": [
    "# So, now that I have shown that each of these methods \n",
    "# at least regurgitate data, let's actually test them. \n",
    "# In these scenarios I have given the algorithms the \n",
    "# ability to memorize its input. Now, I'll give them \n",
    "# a train and test set\n",
    "def k_fold_cross_validation(data, k):\n",
    "    \"\"\"\n",
    "    params:\n",
    "        data: This should be a pandas data frame\n",
    "        k: This is an int indicating the folds of the data to be performed\n",
    "           If k is 0, perform LOO cross-validation: TODO\n",
    "           If k is 1, the data is both test and train\n",
    "    output:\n",
    "        train: This is a pandas data frame\n",
    "        test: This is a pandas data frame\n",
    "        cross: This is which k we shall be working on\n",
    "    \"\"\"\n",
    "    if k == 1:\n",
    "        yield(data, data, k)\n",
    "        return()\n",
    "    if k == 0:\n",
    "        for i, value in enumerate(data): # double check\n",
    "            train = data[:i].append(data[(i+1):])\n",
    "            test = data[i:(i+1)]\n",
    "            yield(train, test, i)\n",
    "    size = len(data)\n",
    "    for cross in range(k):\n",
    "        start = int(cross*size/k)\n",
    "        stop = int((cross+1)*size/k)\n",
    "        train = data[:start].append(data[stop:])\n",
    "        test = data[start:stop]\n",
    "        yield(train,test,cross)"
   ]
  },
  {
   "cell_type": "code",
   "execution_count": 21,
   "metadata": {},
   "outputs": [],
   "source": [
    "small_data=data[:6]"
   ]
  },
  {
   "cell_type": "code",
   "execution_count": 22,
   "metadata": {},
   "outputs": [
    {
     "data": {
      "text/html": [
       "<div>\n",
       "<style scoped>\n",
       "    .dataframe tbody tr th:only-of-type {\n",
       "        vertical-align: middle;\n",
       "    }\n",
       "\n",
       "    .dataframe tbody tr th {\n",
       "        vertical-align: top;\n",
       "    }\n",
       "\n",
       "    .dataframe thead th {\n",
       "        text-align: right;\n",
       "    }\n",
       "</style>\n",
       "<table border=\"1\" class=\"dataframe\">\n",
       "  <thead>\n",
       "    <tr style=\"text-align: right;\">\n",
       "      <th></th>\n",
       "      <th>article_link</th>\n",
       "      <th>headline</th>\n",
       "      <th>is_sarcastic</th>\n",
       "    </tr>\n",
       "  </thead>\n",
       "  <tbody>\n",
       "    <tr>\n",
       "      <th>0</th>\n",
       "      <td>https://www.huffingtonpost.com/entry/versace-b...</td>\n",
       "      <td>former versace store clerk sues over secret bl...</td>\n",
       "      <td>0</td>\n",
       "    </tr>\n",
       "    <tr>\n",
       "      <th>1</th>\n",
       "      <td>https://www.huffingtonpost.com/entry/roseanne-...</td>\n",
       "      <td>the roseanne revival catches up to our thorny ...</td>\n",
       "      <td>0</td>\n",
       "    </tr>\n",
       "  </tbody>\n",
       "</table>\n",
       "</div>"
      ],
      "text/plain": [
       "                                        article_link  \\\n",
       "0  https://www.huffingtonpost.com/entry/versace-b...   \n",
       "1  https://www.huffingtonpost.com/entry/roseanne-...   \n",
       "\n",
       "                                            headline  is_sarcastic  \n",
       "0  former versace store clerk sues over secret bl...             0  \n",
       "1  the roseanne revival catches up to our thorny ...             0  "
      ]
     },
     "metadata": {},
     "output_type": "display_data"
    },
    {
     "data": {
      "text/html": [
       "<div>\n",
       "<style scoped>\n",
       "    .dataframe tbody tr th:only-of-type {\n",
       "        vertical-align: middle;\n",
       "    }\n",
       "\n",
       "    .dataframe tbody tr th {\n",
       "        vertical-align: top;\n",
       "    }\n",
       "\n",
       "    .dataframe thead th {\n",
       "        text-align: right;\n",
       "    }\n",
       "</style>\n",
       "<table border=\"1\" class=\"dataframe\">\n",
       "  <thead>\n",
       "    <tr style=\"text-align: right;\">\n",
       "      <th></th>\n",
       "      <th>article_link</th>\n",
       "      <th>headline</th>\n",
       "      <th>is_sarcastic</th>\n",
       "    </tr>\n",
       "  </thead>\n",
       "  <tbody>\n",
       "    <tr>\n",
       "      <th>2</th>\n",
       "      <td>https://local.theonion.com/mom-starting-to-fea...</td>\n",
       "      <td>mom starting to fear sons web series closest t...</td>\n",
       "      <td>1</td>\n",
       "    </tr>\n",
       "    <tr>\n",
       "      <th>3</th>\n",
       "      <td>https://politics.theonion.com/boehner-just-wan...</td>\n",
       "      <td>boehner just wants wife to listen not come up ...</td>\n",
       "      <td>1</td>\n",
       "    </tr>\n",
       "  </tbody>\n",
       "</table>\n",
       "</div>"
      ],
      "text/plain": [
       "                                        article_link  \\\n",
       "2  https://local.theonion.com/mom-starting-to-fea...   \n",
       "3  https://politics.theonion.com/boehner-just-wan...   \n",
       "\n",
       "                                            headline  is_sarcastic  \n",
       "2  mom starting to fear sons web series closest t...             1  \n",
       "3  boehner just wants wife to listen not come up ...             1  "
      ]
     },
     "metadata": {},
     "output_type": "display_data"
    },
    {
     "data": {
      "text/html": [
       "<div>\n",
       "<style scoped>\n",
       "    .dataframe tbody tr th:only-of-type {\n",
       "        vertical-align: middle;\n",
       "    }\n",
       "\n",
       "    .dataframe tbody tr th {\n",
       "        vertical-align: top;\n",
       "    }\n",
       "\n",
       "    .dataframe thead th {\n",
       "        text-align: right;\n",
       "    }\n",
       "</style>\n",
       "<table border=\"1\" class=\"dataframe\">\n",
       "  <thead>\n",
       "    <tr style=\"text-align: right;\">\n",
       "      <th></th>\n",
       "      <th>article_link</th>\n",
       "      <th>headline</th>\n",
       "      <th>is_sarcastic</th>\n",
       "    </tr>\n",
       "  </thead>\n",
       "  <tbody>\n",
       "    <tr>\n",
       "      <th>4</th>\n",
       "      <td>https://www.huffingtonpost.com/entry/jk-rowlin...</td>\n",
       "      <td>jk rowling wishes snape happy birthday in the ...</td>\n",
       "      <td>0</td>\n",
       "    </tr>\n",
       "    <tr>\n",
       "      <th>5</th>\n",
       "      <td>https://www.huffingtonpost.com/entry/advancing...</td>\n",
       "      <td>advancing the worlds women</td>\n",
       "      <td>0</td>\n",
       "    </tr>\n",
       "  </tbody>\n",
       "</table>\n",
       "</div>"
      ],
      "text/plain": [
       "                                        article_link  \\\n",
       "4  https://www.huffingtonpost.com/entry/jk-rowlin...   \n",
       "5  https://www.huffingtonpost.com/entry/advancing...   \n",
       "\n",
       "                                            headline  is_sarcastic  \n",
       "4  jk rowling wishes snape happy birthday in the ...             0  \n",
       "5                         advancing the worlds women             0  "
      ]
     },
     "metadata": {},
     "output_type": "display_data"
    }
   ],
   "source": [
    "for fold in k_fold_cross_validation(small_data,3):\n",
    "    display(fold[1])"
   ]
  },
  {
   "cell_type": "code",
   "execution_count": 23,
   "metadata": {},
   "outputs": [
    {
     "data": {
      "text/html": [
       "<div>\n",
       "<style scoped>\n",
       "    .dataframe tbody tr th:only-of-type {\n",
       "        vertical-align: middle;\n",
       "    }\n",
       "\n",
       "    .dataframe tbody tr th {\n",
       "        vertical-align: top;\n",
       "    }\n",
       "\n",
       "    .dataframe thead th {\n",
       "        text-align: right;\n",
       "    }\n",
       "</style>\n",
       "<table border=\"1\" class=\"dataframe\">\n",
       "  <thead>\n",
       "    <tr style=\"text-align: right;\">\n",
       "      <th></th>\n",
       "      <th>article_link</th>\n",
       "      <th>headline</th>\n",
       "      <th>is_sarcastic</th>\n",
       "    </tr>\n",
       "  </thead>\n",
       "  <tbody>\n",
       "  </tbody>\n",
       "</table>\n",
       "</div>"
      ],
      "text/plain": [
       "Empty DataFrame\n",
       "Columns: [article_link, headline, is_sarcastic]\n",
       "Index: []"
      ]
     },
     "execution_count": 23,
     "metadata": {},
     "output_type": "execute_result"
    }
   ],
   "source": [
    "small_data[:0]"
   ]
  },
  {
   "cell_type": "code",
   "execution_count": 24,
   "metadata": {},
   "outputs": [],
   "source": [
    "# Ok, now let's get a function that can perform these operations\n",
    "# without any outside help\n",
    "def run_algorithm(train, test, algorithm):\n",
    "    \"\"\"\n",
    "    params:\n",
    "        train: a pandas data frame of the data\n",
    "        test: a pandas data frame of the data\n",
    "        algorithm: a pointer to a function that takes in data and outputs predictions\n",
    "    outputs:\n",
    "        confusion_matrix: The confusion matrix of the boolean classification\n",
    "        duration: The amount of time that this took to run\n",
    "    \"\"\"\n",
    "    start = time.time()\n",
    "    training_info = algorithm(train)\n",
    "    confusion_matrix = algorithm(test, training_info)\n",
    "    duration = time.time() - start\n",
    "    return(confusion_matrix, duration)"
   ]
  },
  {
   "cell_type": "code",
   "execution_count": 82,
   "metadata": {},
   "outputs": [],
   "source": [
    "def prior(data,info=None):\n",
    "    values = None\n",
    "    if info is None:\n",
    "        prior=sum(data['is_sarcastic'])/len(data)\n",
    "        values = prior\n",
    "    else:\n",
    "        answer = 0\n",
    "        # If 1 is more common than 0, guess 1.\n",
    "        if info > 0.5:\n",
    "            answer = 1\n",
    "        confusion_matrix = {x:0 for x in it.product([0,1],repeat=2)}\n",
    "        for x in data['is_sarcastic']:\n",
    "            confusion_matrix[(answer,x)] += 1\n",
    "        values = confusion_matrix\n",
    "    return(values)"
   ]
  },
  {
   "cell_type": "code",
   "execution_count": 130,
   "metadata": {},
   "outputs": [],
   "source": [
    "def add_term(dicto, word, sarcasm):\n",
    "        if not word in dicto:\n",
    "            dicto[word] = [0,0]\n",
    "            dicto[word][sarcasm] = 1  #if this is the first time we see the word, make its count the step\n",
    "        else:\n",
    "            dicto[word][sarcasm] += 1 #increment the count with another sighting"
   ]
  },
  {
   "cell_type": "code",
   "execution_count": 178,
   "metadata": {},
   "outputs": [],
   "source": [
    "def NB(data,info=None):\n",
    "    values = None\n",
    "    counts = {}\n",
    "    if info is None:\n",
    "        for entry, sarc in zip(data['headline'],data['is_sarcastic']):\n",
    "            for word in entry.split(\" \"):\n",
    "                add_term(counts, word, sarc)\n",
    "        v=list(it.chain(*list(counts.values())))\n",
    "        num_serious_words=sum(v[0::2])\n",
    "        num_sarcastic_words=sum(v[1::2])\n",
    "        for word in counts:\n",
    "            counts[word][0] /= num_serious_words\n",
    "            counts[word][1] /= num_sarcastic_words\n",
    "        values = counts\n",
    "    else:\n",
    "        confusion_matrix = {x:0 for x in it.product([0,1],repeat=2)}\n",
    "        for entry, sarc in zip(data['headline'],data['is_sarcastic']):\n",
    "            # For every headline, multiply the frequency of each word for each class\n",
    "            # If a word in the test set is not found in the training set, ignore it\n",
    "            r = list(it.chain(*[info.get(word, [1,1]) for word in entry.split(\" \")]))\n",
    "            p_serious = reduce((lambda x, y: x * y), r[0::2]) \n",
    "            p_sarcasm = reduce((lambda x, y: x * y), r[1::2]) \n",
    "            result=(p_serious < p_sarcasm, bool(sarc))\n",
    "            confusion_matrix[result] += 1\n",
    "        values = confusion_matrix\n",
    "    return(values)"
   ]
  },
  {
   "cell_type": "code",
   "execution_count": 179,
   "metadata": {},
   "outputs": [],
   "source": [
    "def NB_rank(data,info=None):\n",
    "    values = None\n",
    "    counts = {}\n",
    "    if info is None:\n",
    "        for entry, sarc in zip(data['headline'],data['is_sarcastic']):\n",
    "            for word in entry.split(\" \"):\n",
    "                add_term(counts, word, sarc)\n",
    "        # Get the ranks of each word in reference to serious\n",
    "        ordered_counts_ser=OrderedDict(sorted(counts.items(), reverse=True, key=lambda x: x[1][0]))\n",
    "        for i,count in enumerate(ordered_counts_ser):\n",
    "            ordered_counts_ser[count][0]=i\n",
    "        # Get the ranks of each word in reference to sarcasm\n",
    "        ordered_counts_sarc=OrderedDict(sorted(ordered_counts_ser.items(), reverse=True, key=lambda x: x[1][1]))\n",
    "        for i,count in enumerate(ordered_counts_sarc):\n",
    "            ordered_counts_sarc[count][1]=i\n",
    "        values = ordered_counts_sarc\n",
    "    else:\n",
    "        confusion_matrix = {x:0 for x in it.product([0,1],repeat=2)}\n",
    "        for entry, sarc in zip(data['headline'],data['is_sarcastic']):\n",
    "            # If a word in the test set is not found in the training set, ignore it\n",
    "            r=list(itertools.chain(*[info.get(word,[0,0]) for word in entry.split(\" \")]))\n",
    "            # For every headline, add up the rankings of each word for each class\n",
    "            psar = sum(r[1::2])\n",
    "            pser = sum(r[0::2])\n",
    "            result=(pser > psar,bool(sarc))\n",
    "            confusion_matrix[result] += 1\n",
    "        values = confusion_matrix\n",
    "    return(values)"
   ]
  },
  {
   "cell_type": "code",
   "execution_count": 139,
   "metadata": {},
   "outputs": [],
   "source": [
    "def accuracy(confusion_matrix):\n",
    "    correct = confusion_matrix[(True, True)]+confusion_matrix[(False, False)]\n",
    "    return(correct/sum(list(confusion_matrix.values())))"
   ]
  },
  {
   "cell_type": "code",
   "execution_count": 75,
   "metadata": {},
   "outputs": [],
   "source": [
    "size=1000\n",
    "medium_data=data#[:size]"
   ]
  },
  {
   "cell_type": "code",
   "execution_count": 76,
   "metadata": {},
   "outputs": [
    {
     "data": {
      "text/html": [
       "<div>\n",
       "<style scoped>\n",
       "    .dataframe tbody tr th:only-of-type {\n",
       "        vertical-align: middle;\n",
       "    }\n",
       "\n",
       "    .dataframe tbody tr th {\n",
       "        vertical-align: top;\n",
       "    }\n",
       "\n",
       "    .dataframe thead th {\n",
       "        text-align: right;\n",
       "    }\n",
       "</style>\n",
       "<table border=\"1\" class=\"dataframe\">\n",
       "  <thead>\n",
       "    <tr style=\"text-align: right;\">\n",
       "      <th></th>\n",
       "      <th>article_link</th>\n",
       "      <th>headline</th>\n",
       "      <th>is_sarcastic</th>\n",
       "    </tr>\n",
       "  </thead>\n",
       "  <tbody>\n",
       "    <tr>\n",
       "      <th>0</th>\n",
       "      <td>https://www.huffingtonpost.com/entry/versace-b...</td>\n",
       "      <td>former versace store clerk sues over secret bl...</td>\n",
       "      <td>0</td>\n",
       "    </tr>\n",
       "    <tr>\n",
       "      <th>1</th>\n",
       "      <td>https://www.huffingtonpost.com/entry/roseanne-...</td>\n",
       "      <td>the roseanne revival catches up to our thorny ...</td>\n",
       "      <td>0</td>\n",
       "    </tr>\n",
       "    <tr>\n",
       "      <th>2</th>\n",
       "      <td>https://local.theonion.com/mom-starting-to-fea...</td>\n",
       "      <td>mom starting to fear sons web series closest t...</td>\n",
       "      <td>1</td>\n",
       "    </tr>\n",
       "    <tr>\n",
       "      <th>3</th>\n",
       "      <td>https://politics.theonion.com/boehner-just-wan...</td>\n",
       "      <td>boehner just wants wife to listen not come up ...</td>\n",
       "      <td>1</td>\n",
       "    </tr>\n",
       "    <tr>\n",
       "      <th>4</th>\n",
       "      <td>https://www.huffingtonpost.com/entry/jk-rowlin...</td>\n",
       "      <td>jk rowling wishes snape happy birthday in the ...</td>\n",
       "      <td>0</td>\n",
       "    </tr>\n",
       "  </tbody>\n",
       "</table>\n",
       "</div>"
      ],
      "text/plain": [
       "                                        article_link  \\\n",
       "0  https://www.huffingtonpost.com/entry/versace-b...   \n",
       "1  https://www.huffingtonpost.com/entry/roseanne-...   \n",
       "2  https://local.theonion.com/mom-starting-to-fea...   \n",
       "3  https://politics.theonion.com/boehner-just-wan...   \n",
       "4  https://www.huffingtonpost.com/entry/jk-rowlin...   \n",
       "\n",
       "                                            headline  is_sarcastic  \n",
       "0  former versace store clerk sues over secret bl...             0  \n",
       "1  the roseanne revival catches up to our thorny ...             0  \n",
       "2  mom starting to fear sons web series closest t...             1  \n",
       "3  boehner just wants wife to listen not come up ...             1  \n",
       "4  jk rowling wishes snape happy birthday in the ...             0  "
      ]
     },
     "execution_count": 76,
     "metadata": {},
     "output_type": "execute_result"
    }
   ],
   "source": [
    "medium_data.head()"
   ]
  },
  {
   "cell_type": "code",
   "execution_count": 77,
   "metadata": {
    "scrolled": true
   },
   "outputs": [
    {
     "data": {
      "text/plain": [
       "Text(0.5, 1.0, 'Sarcasm vs Non-sarcasm')"
      ]
     },
     "execution_count": 77,
     "metadata": {},
     "output_type": "execute_result"
    },
    {
     "data": {
      "image/png": "[encoded data removed]",
      "text/plain": [
       "<Figure size 432x288 with 1 Axes>"
      ]
     },
     "metadata": {
      "needs_background": "light"
     },
     "output_type": "display_data"
    }
   ],
   "source": [
    "# Get prior proportions\n",
    "sns.countplot(medium_data.is_sarcastic)\n",
    "plt.xlabel('Label')\n",
    "plt.title('Sarcasm vs Non-sarcasm')"
   ]
  },
  {
   "cell_type": "code",
   "execution_count": 175,
   "metadata": {},
   "outputs": [
    {
     "data": {
      "text/plain": [
       "0.9630461642143098"
      ]
     },
     "execution_count": 175,
     "metadata": {},
     "output_type": "execute_result"
    }
   ],
   "source": [
    "confusion_matrix, duration = run_algorithm(medium_data, medium_data, NB)\n",
    "accuracy(confusion_matrix)"
   ]
  },
  {
   "cell_type": "code",
   "execution_count": 188,
   "metadata": {},
   "outputs": [
    {
     "name": "stdout",
     "output_type": "stream",
     "text": [
      "0.00011232168931820734\n"
     ]
    }
   ],
   "source": [
    "acc = 0\n",
    "k=0\n",
    "for train, test, cross in k_fold_cross_validation(medium_data, k): # never before seen words\n",
    "    confusion_matrix, duration = run_algorithm(train, test, NB)\n",
    "    acc += accuracy(confusion_matrix)\n",
    "print(acc/len(medium_data))"
   ]
  },
  {
   "cell_type": "code",
   "execution_count": null,
   "metadata": {},
   "outputs": [],
   "source": []
  },
  {
   "cell_type": "code",
   "execution_count": null,
   "metadata": {},
   "outputs": [],
   "source": []
  }
 ],
 "metadata": {
  "kernelspec": {
   "display_name": "Python 3",
   "language": "python",
   "name": "python3"
  },
  "language_info": {
   "codemirror_mode": {
    "name": "ipython",
    "version": 3
   },
   "file_extension": ".py",
   "mimetype": "text/x-python",
   "name": "python",
   "nbconvert_exporter": "python",
   "pygments_lexer": "ipython3",
   "version": "3.7.1"
  }
 },
 "nbformat": 4,
 "nbformat_minor": 2
}
